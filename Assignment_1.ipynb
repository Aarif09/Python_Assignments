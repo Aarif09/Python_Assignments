{
 "cells": [
  {
   "cell_type": "markdown",
   "metadata": {},
   "source": [
    "Create the list of mix element by asking user to enter the values. Segregate the mixed data type list into two different list "
   ]
  },
  {
   "cell_type": "code",
   "execution_count": 2,
   "metadata": {},
   "outputs": [
    {
     "name": "stdout",
     "output_type": "stream",
     "text": [
      "Strings:  ['Abc', 'Abc', 'Ereff', 'Abc', 'Ereff', 'Rnd']\n",
      "Integers:  []\n"
     ]
    }
   ],
   "source": [
    "x = []\n",
    "y = []\n",
    "z = []\n",
    "\n",
    "while True:\n",
    "    input_str = input(\"Enter a value (stop to end): \")\n",
    "    val = input_str.capitalize()\n",
    "\n",
    "    if val == \"Stop\":\n",
    "        break\n",
    "    else:\n",
    "        x.append(val)\n",
    "        for i in x:\n",
    "            if i.isalpha():\n",
    "                y.append(i)\n",
    "            elif i.isdigit():\n",
    "                z.append(i)\n",
    "            else:\n",
    "                print(\"Invalid input\")\n",
    "\n",
    "\n",
    "print(\"Strings: \", y)\n",
    "print(\"Integers: \", z)\n"
   ]
  }
 ],
 "metadata": {
  "kernelspec": {
   "display_name": "Python 3",
   "language": "python",
   "name": "python3"
  },
  "language_info": {
   "codemirror_mode": {
    "name": "ipython",
    "version": 3
   },
   "file_extension": ".py",
   "mimetype": "text/x-python",
   "name": "python",
   "nbconvert_exporter": "python",
   "pygments_lexer": "ipython3",
   "version": "3.10.2"
  }
 },
 "nbformat": 4,
 "nbformat_minor": 2
}
