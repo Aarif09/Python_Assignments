{
 "cells": [
  {
   "cell_type": "markdown",
   "metadata": {},
   "source": [
    "Create a logic to segregate folders based on file size. Make 3 folders small size, middle size, large size folder and transfer the files to respective folders "
   ]
  },
  {
   "cell_type": "code",
   "execution_count": null,
   "metadata": {},
   "outputs": [],
   "source": [
    "import os\n",
    "import shutil\n",
    "\n",
    "for i in os.listdir(r\"D:\\\\Shut\"):\n",
    "    file_nam=r'\"D:\\\\Shut\"'+i\n",
    "    \n",
    "    sz=os.stat(file_nam).st_size/1000\n",
    "\n",
    "    if 0<=sz<=200:\n",
    "        shutil.move(file_nam,r\"D:\\\\Shut\\\\small\")\n",
    "    elif 200<=sz<=400:\n",
    "        shutil.move(file_nam,r\"D:\\\\Shut\\\\medium\")\n",
    "    else:\n",
    "        shutil.move(file_nam,r\"D:\\\\Shut\\\\large\")"
   ]
  },
  {
   "cell_type": "markdown",
   "metadata": {},
   "source": []
  }
 ],
 "metadata": {
  "kernelspec": {
   "display_name": "Python 3",
   "language": "python",
   "name": "python3"
  },
  "language_info": {
   "codemirror_mode": {
    "name": "ipython",
    "version": 3
   },
   "file_extension": ".py",
   "mimetype": "text/x-python",
   "name": "python",
   "nbconvert_exporter": "python",
   "pygments_lexer": "ipython3",
   "version": "3.10.2"
  }
 },
 "nbformat": 4,
 "nbformat_minor": 2
}
