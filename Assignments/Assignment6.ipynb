{
 "cells": [
  {
   "cell_type": "markdown",
   "metadata": {},
   "source": [
    "Create a logic to segregate folders based on file size. Make 3 folders small size, middle size , large size folder and transfer the files to respective folders "
   ]
  },
  {
   "cell_type": "code",
   "execution_count": null,
   "metadata": {},
   "outputs": [],
   "source": [
    "import os\n",
    "import shutil\n",
    "\n",
    "# Define the size thresholds (in bytes)\n",
    "small_size_threshold = 1024 * 1024  # 1 MB\n",
    "large_size_threshold = 1024 * 1024 * 10  # 10 MB\n",
    "\n",
    "# Create directories for small, middle, and large files\n",
    "os.makedirs('small_size', exist_ok=True)\n",
    "os.makedirs('middle_size', exist_ok=True)\n",
    "os.makedirs('large_size', exist_ok=True)\n",
    "\n",
    "# Path to the directory containing the files\n",
    "source_directory = 'source_directory_path'\n",
    "\n",
    "# Iterate over the files in the source directory\n",
    "for filename in os.listdir(source_directory):\n",
    "    file_path = os.path.join(source_directory, filename)\n",
    "    \n",
    "    # Check if it is a file\n",
    "    if os.path.isfile(file_path):\n",
    "        file_size = os.path.getsize(file_path)\n",
    "        \n",
    "        # Move the file to the respective folder based on its size\n",
    "        if file_size <= small_size_threshold:\n",
    "            shutil.move(file_path, 'small_size')\n",
    "        elif file_size <= large_size_threshold:\n",
    "            shutil.move(file_path, 'middle_size')\n",
    "        else:\n",
    "            shutil.move(file_path, 'large_size')"
   ]
  },
  {
   "cell_type": "code",
   "execution_count": null,
   "metadata": {},
   "outputs": [],
   "source": []
  }
 ],
 "metadata": {
  "kernelspec": {
   "display_name": "Python 3",
   "language": "python",
   "name": "python3"
  },
  "language_info": {
   "name": "python",
   "version": "3.10.2"
  }
 },
 "nbformat": 4,
 "nbformat_minor": 2
}
