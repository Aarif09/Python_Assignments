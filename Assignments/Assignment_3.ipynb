{
 "cells": [
  {
   "cell_type": "markdown",
   "metadata": {},
   "source": [
    "Generate the bill with proper format to create the bill file. User may enter more than 1 element "
   ]
  },
  {
   "cell_type": "code",
   "execution_count": null,
   "metadata": {},
   "outputs": [],
   "source": [
    "Name=input(\"Enter Name\")\n",
    "Item=input(\"Enter Item\")\n",
    "\n",
    "Price=float(input(\"Enter Price\"))\n",
    "\n",
    "Quantity=int(input(\"Enter Quantity\"))\n",
    "\n",
    "Amount=Price*Quantity\n",
    "\n",
    "TotalAmount=Amount*1.1\n",
    "\n",
    "print(\"{:$^40}\".format(\"\"))\n",
    "\n",
    "print(\"{:>20}\".format(\"Bill\"))\n",
    "\n",
    "print(\"{:>10} {:>20} {:>20} {:>20} {:>20} {:>20}\".format(\"Name\",\"Item\",\"Price\",\"Quantity\",\"Amount\",\"TotalAmount\"))\n",
    "print(\"{:>10} {:>20} {:>20} {:>20} {:>20} {:>20}\".format(Name,Item,Price,Quantity,Amount,TotalAmount))\n",
    "\n"
   ]
  },
  {
   "cell_type": "code",
   "execution_count": null,
   "metadata": {},
   "outputs": [],
   "source": [
    "from datetime import datetime\n",
    "from datetime import time\n",
    "from datetime import date\n",
    "print(\"{:^95}\".format(\"WELCOME TO FIESTA\"))\n",
    "while True:\n",
    "    Name = input(\"Enter Name: \")\n",
    "    if not Name:\n",
    "        break  # Exit the loop if the user enters an empty name\n",
    "\n",
    "    Item = input(\"Enter Item: \")\n",
    "    Price = float(input(\"Enter Price: \"))\n",
    "    Quantity = int(input(\"Enter Quantity: \"))\n",
    "    Amount = Price * Quantity\n",
    "    TotalAmount = Amount * 1.1 \n",
    "    date = datetime.now().strftime(\"%Y-%m-%d %H:%M:%S\")  # Get the current date and time\n",
    "\n",
    "    print(\"{:-^170}\".format(\"\"))\n",
    "    print(\"{:>65}\".format(\"Bill\"))\n",
    "    print(\"Date:\", date)\n",
    "    print(\"{:>10} {:>20} {:>20} {:>20} {:>20} {:>20}\".format(\"Name\",\"Item\",\"Price\",\"Quantity\",\"Amount\",\"TotalAmount\"))\n",
    "    print(\"{:>10} {:>20} {:>20} {:>20} {:>20.2f} {:>20.2f}\".format(Name,Item,Price,Quantity,Amount,TotalAmount)) \n",
    "    print()  \n",
    "\n",
    "print(\"{:^95}\".format(\"Billing Completed.\"))\n",
    "print(\"{:^95}\".format(\"Thanks for Visting\"))"
   ]
  }
 ],
 "metadata": {
  "kernelspec": {
   "display_name": "Python 3",
   "language": "python",
   "name": "python3"
  },
  "language_info": {
   "name": "python",
   "version": "3.10.2"
  }
 },
 "nbformat": 4,
 "nbformat_minor": 2
}
