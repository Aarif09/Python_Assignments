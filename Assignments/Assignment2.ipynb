{
 "cells": [
  {
   "cell_type": "markdown",
   "metadata": {},
   "source": [
    "Strings Functions"
   ]
  },
  {
   "cell_type": "code",
   "execution_count": 3,
   "metadata": {},
   "outputs": [
    {
     "name": "stdout",
     "output_type": "stream",
     "text": [
      "10is greater than 15\n"
     ]
    }
   ],
   "source": [
    "a=10\n",
    "b=15\n",
    "print(\"{}is greater than {}\".format(a,b))\n"
   ]
  },
  {
   "cell_type": "code",
   "execution_count": 4,
   "metadata": {},
   "outputs": [
    {
     "name": "stdout",
     "output_type": "stream",
     "text": [
      "15 is samller than 10\n"
     ]
    }
   ],
   "source": [
    "print(\"{1} is samller than {0}\".format(a,b))"
   ]
  },
  {
   "cell_type": "code",
   "execution_count": 6,
   "metadata": {},
   "outputs": [
    {
     "name": "stdout",
     "output_type": "stream",
     "text": [
      "10  a is smaller than than b 15\n"
     ]
    }
   ],
   "source": [
    "print(a,\" a is smaller than than b\",b)"
   ]
  },
  {
   "cell_type": "code",
   "execution_count": 10,
   "metadata": {},
   "outputs": [
    {
     "name": "stdout",
     "output_type": "stream",
     "text": [
      "Two float value : 10.99 & 206.9933887\n",
      "Two float value :10.990000 & 206.993389\n",
      "Two float value :10.990000 & 206.993389\n",
      "Two float value :10.990000 &     206.99\n",
      "Two float value :10.990000 &          206.99\n",
      "Two float value :         206.99 & 10.99\n"
     ]
    }
   ],
   "source": [
    "#Float formating\n",
    "a=10.99\n",
    "b=206.9933887\n",
    "\n",
    "print(\"Two float value : {} & {}\".format(a,b))\n",
    "\n",
    "print(\"Two float value :{:2f} & {:3f}\".format(a,b))#O/P gives 2 & 3 decimal values respectively\n",
    "print(\"Two float value :{:2f} & {:2f}\".format(a,b))\n",
    "print(\"Two float value :{:2f} & {:10.2f}\".format(a,b))\n",
    "print(\"Two float value :{:2f} & {:15.2f}\".format(a,b))    \n",
    "print(\"Two float value :{1:15.2f} & {0:.2f}\".format(a,b))  \n",
    "      "
   ]
  },
  {
   "cell_type": "code",
   "execution_count": 11,
   "metadata": {},
   "outputs": [
    {
     "name": "stdout",
     "output_type": "stream",
     "text": [
      "Two float value :          10.99 & 206.99\n"
     ]
    }
   ],
   "source": [
    "print(f\"Two float value :{a:15.2f} & {b:.2f}\")"
   ]
  },
  {
   "cell_type": "markdown",
   "metadata": {},
   "source": [
    "String Formatting"
   ]
  },
  {
   "cell_type": "code",
   "execution_count": 14,
   "metadata": {},
   "outputs": [
    {
     "name": "stdout",
     "output_type": "stream",
     "text": [
      "Hello,19192345,Rajen\n",
      "Hello,19192345.00,Rajendr Singh\n",
      "Hello,19192345.00,Rajendr Singh\n",
      "10.0\n",
      "10\n",
      "10\n"
     ]
    }
   ],
   "source": [
    "name=\"Rajendr Singh\"\n",
    "number=19192345\n",
    "print(\"Hello,{1},{0:.5s}\".format(name,number))\n",
    "print(\"Hello,{1:.2f},{0}\".format(name,number))\n",
    "\n",
    "print(f\"Hello,{number:.2f},{name}\")\n",
    "\n",
    "print(float(10))\n",
    "print(int(10.5))\n",
    "print(str(10))\n"
   ]
  },
  {
   "cell_type": "code",
   "execution_count": 13,
   "metadata": {},
   "outputs": [
    {
     "name": "stdout",
     "output_type": "stream",
     "text": [
      "<class 'tuple'>\n",
      "Hello John Doe.Your current balance is $53 $100\n"
     ]
    }
   ],
   "source": [
    "data=(\"John\",\"Doe\",53.44,100.23)\n",
    "print(type(data))\n",
    "format_string= \"Hello %s %s.Your current balance is $%d $%d\"\n",
    "new_string= format_string%data\n",
    "print(new_string)\n"
   ]
  },
  {
   "cell_type": "code",
   "execution_count": 19,
   "metadata": {},
   "outputs": [
    {
     "name": "stdout",
     "output_type": "stream",
     "text": [
      "$$$$$$$$$$$$$$$$$$$$$$$$$$$$$$\n",
      "                         Hello\n",
      "Hello                         \n",
      "            Hello             \n",
      "000000000000Hello0000000000000\n",
      "Hello0000000000000000000000000\n"
     ]
    }
   ],
   "source": [
    "print(\"{:$^30}\".format(\"\"))\n",
    "\n",
    "print(\"{:>30}\".format(\"Hello\"))\n",
    "\n",
    "print(\"{:<30}\".format(\"Hello\"))\n",
    "\n",
    "print(\"{:^30}\".format(\"Hello\"))\n",
    "\n",
    "print(\"{:0^30}\".format(\"Hello\"))\n",
    "\n",
    "print(\"{:030}\".format(\"Hello\")) \n"
   ]
  },
  {
   "cell_type": "code",
   "execution_count": 20,
   "metadata": {},
   "outputs": [
    {
     "name": "stdout",
     "output_type": "stream",
     "text": [
      "    +12.23     -12.24\n",
      "     12.23 -    12.24\n",
      "_____12.23 ____-12.24\n"
     ]
    }
   ],
   "source": [
    "print(\"{:+10.2f} {:+10.2f}\".format(12.23 , -12.24))\n",
    "\n",
    "print(\"{:=10.2f} {:=10.2f}\".format(12.23 , -12.24))\n",
    "\n",
    "print(\"{:_>10.2f} {:_>10.2f}\".format(12.23 , -12.24))\n",
    "print(\":>10.2\") "
   ]
  },
  {
   "cell_type": "code",
   "execution_count": 28,
   "metadata": {},
   "outputs": [
    {
     "name": "stdout",
     "output_type": "stream",
     "text": [
      "$$$$$$$$$$$$$$$$$$$$$$$$$$$$$$$$$$$$$$$$\n",
      "                Bill\n",
      "      Name                 Item                Price             Quantity               Amount          TotalAmount\n",
      "       Jpo                juive                 60.5                    1                 60.5    66.55000000000001\n"
     ]
    }
   ],
   "source": [
    "Name=input(\"Enter Name\")\n",
    "Item=input(\"Enter Item\")\n",
    "\n",
    "Price=float(input(\"Enter Price\"))\n",
    "\n",
    "Quantity=int(input(\"Enter Quantity\"))\n",
    "\n",
    "Amount=Price*Quantity\n",
    "\n",
    "TotalAmount=Amount*1.1\n",
    "\n",
    "print(\"{:$^40}\".format(\"\"))\n",
    "\n",
    "print(\"{:>20}\".format(\"Bill\"))\n",
    "\n",
    "print(\"{:>10} {:>20} {:>20} {:>20} {:>20} {:>20}\".format(\"Name\",\"Item\",\"Price\",\"Quantity\",\"Amount\",\"TotalAmount\"))\n",
    "print(\"{:>10} {:>20} {:>20} {:>20} {:>20} {:>20}\".format(Name,Item,Price,Quantity,Amount,TotalAmount))\n",
    "\n"
   ]
  },
  {
   "cell_type": "code",
   "execution_count": 18,
   "metadata": {},
   "outputs": [
    {
     "name": "stdout",
     "output_type": "stream",
     "text": [
      "                                       WELCOME TO FIESTA                                       \n",
      "                                      Billing Completed.                                       \n",
      "                                      Thanks for Visting                                       \n"
     ]
    }
   ],
   "source": [
    "from datetime import datetime\n",
    "from datetime import time\n",
    "from datetime import date\n",
    "print(\"{:^95}\".format(\"WELCOME TO FIESTA\"))\n",
    "while True:\n",
    "    Name = input(\"Enter Name: \")\n",
    "    if not Name:\n",
    "        break  # Exit the loop if the user enters an empty name\n",
    "\n",
    "    Item = input(\"Enter Item: \")\n",
    "    Price = float(input(\"Enter Price: \"))\n",
    "    Quantity = int(input(\"Enter Quantity: \"))\n",
    "    Amount = Price * Quantity\n",
    "    TotalAmount = Amount * 1.1 \n",
    "    date = datetime.now().strftime(\"%Y-%m-%d %H:%M:%S\")  # Get the current date and time\n",
    "\n",
    "    print(\"{:-^170}\".format(\"\"))\n",
    "    print(\"{:>65}\".format(\"Bill\"))\n",
    "    print(\"Date:\", date)\n",
    "    print(\"{:>10} {:>20} {:>20} {:>20} {:>20} {:>20}\".format(\"Name\",\"Item\",\"Price\",\"Quantity\",\"Amount\",\"TotalAmount\"))\n",
    "    print(\"{:>10} {:>20} {:>20} {:>20} {:>20.2f} {:>20.2f}\".format(Name,Item,Price,Quantity,Amount,TotalAmount)) \n",
    "    print()  \n",
    "\n",
    "print(\"{:^95}\".format(\"Billing Completed.\"))\n",
    "print(\"{:^95}\".format(\"Thanks for Visting\"))"
   ]
  }
 ],
 "metadata": {
  "kernelspec": {
   "display_name": "Python 3",
   "language": "python",
   "name": "python3"
  },
  "language_info": {
   "codemirror_mode": {
    "name": "ipython",
    "version": 3
   },
   "file_extension": ".py",
   "mimetype": "text/x-python",
   "name": "python",
   "nbconvert_exporter": "python",
   "pygments_lexer": "ipython3",
   "version": "3.10.2"
  }
 },
 "nbformat": 4,
 "nbformat_minor": 2
}
