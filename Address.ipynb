{
 "cells": [
  {
   "cell_type": "markdown",
   "metadata": {},
   "source": [
    "Address "
   ]
  },
  {
   "cell_type": "markdown",
   "metadata": {},
   "source": [
    "City Validation"
   ]
  },
  {
   "cell_type": "code",
   "execution_count": 14,
   "metadata": {},
   "outputs": [],
   "source": [
    "city = input(\"Enter City: \")\n",
    "while not city:\n",
    "    print(\"City cannot be empty.\")\n",
    "    city = input(\"Enter City: \")\n",
    "    print(\"City:\", city)\n",
    "    "
   ]
  },
  {
   "cell_type": "markdown",
   "metadata": {},
   "source": [
    "Pincode Validation"
   ]
  },
  {
   "cell_type": "code",
   "execution_count": 15,
   "metadata": {},
   "outputs": [],
   "source": [
    "pincode = input(\"Enter Pincode: \")\n",
    "while not pincode.isdigit() or len(pincode) != 6:\n",
    "    print(\"Invalid Pincode. Please enter a 6-digit number.\")\n",
    "    pincode = input(\"Enter Pincode: \")\n",
    "   \n",
    "    print(\"Pincode:\", pincode)"
   ]
  },
  {
   "cell_type": "markdown",
   "metadata": {},
   "source": [
    "State Validation"
   ]
  },
  {
   "cell_type": "code",
   "execution_count": 16,
   "metadata": {},
   "outputs": [],
   "source": [
    "state = input(\"Enter State: \")\n",
    "while not state:\n",
    "    print(\"State cannot be empty.\")\n",
    "    state = input(\"Enter State: \")\n",
    "    print(\"State:\", state)"
   ]
  },
  {
   "cell_type": "markdown",
   "metadata": {},
   "source": [
    "Buyer Validation"
   ]
  },
  {
   "cell_type": "code",
   "execution_count": 17,
   "metadata": {},
   "outputs": [],
   "source": [
    "buyerid = input(\"Enter Buyer ID: \")\n",
    "while not buyerid.isdigit():\n",
    "    print(\"Buyer ID must be a number.\")\n",
    "    buyerid = input(\"Enter Buyer ID: \")\n",
    "    print(\"Buyer ID:\", buyerid)"
   ]
  },
  {
   "cell_type": "code",
   "execution_count": 18,
   "metadata": {},
   "outputs": [
    {
     "name": "stdout",
     "output_type": "stream",
     "text": [
      "\n",
      "Entered Address:\n",
      "City: Pune\n",
      "Pincode: 411012\n",
      "State: Maharashtra\n",
      "Buyer ID: 100098\n"
     ]
    }
   ],
   "source": [
    "# # Get user input for address fields\n",
    "# city = input(\"Enter City: \")\n",
    "# while not city:\n",
    "#     print(\"City cannot be empty.\")\n",
    "#     city = input(\"Enter City: \")\n",
    "\n",
    "# pincode = input(\"Enter Pincode: \")\n",
    "# while not pincode.isdigit() or len(pincode) != 6:\n",
    "#     print(\"Invalid Pincode. Please enter a 6-digit number.\")\n",
    "#     pincode = input(\"Enter Pincode: \")\n",
    "\n",
    "# state = input(\"Enter State: \")\n",
    "# while not state:\n",
    "#     print(\"State cannot be empty.\")\n",
    "#     state = input(\"Enter State: \")\n",
    "\n",
    "# buyerid = input(\"Enter Buyer ID: \")\n",
    "# while not buyerid.isdigit():\n",
    "#     print(\"Buyer ID must be a number.\")\n",
    "#     buyerid = input(\"Enter Buyer ID: \")\n",
    "\n",
    "# Print the entered address information\n",
    "print(\"\\nEntered Address:\")\n",
    "print(\"City:\", city)\n",
    "print(\"Pincode:\", pincode)\n",
    "print(\"State:\", state)\n",
    "print(\"Buyer ID:\", buyerid)"
   ]
  }
 ],
 "metadata": {
  "kernelspec": {
   "display_name": "Python 3",
   "language": "python",
   "name": "python3"
  },
  "language_info": {
   "codemirror_mode": {
    "name": "ipython",
    "version": 3
   },
   "file_extension": ".py",
   "mimetype": "text/x-python",
   "name": "python",
   "nbconvert_exporter": "python",
   "pygments_lexer": "ipython3",
   "version": "3.10.2"
  }
 },
 "nbformat": 4,
 "nbformat_minor": 2
}
