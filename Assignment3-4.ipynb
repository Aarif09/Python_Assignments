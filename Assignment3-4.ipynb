{
 "cells": [
  {
   "cell_type": "markdown",
   "metadata": {},
   "source": [
    "Car Decorator\n"
   ]
  },
  {
   "cell_type": "code",
   "execution_count": 2,
   "metadata": {},
   "outputs": [],
   "source": [
    "import re\n",
    "Pattern_un=r\"[A-z,0-9]*\"\n",
    "Pattern_psw=r\"[A-z,0-9@#$%^&+=]{6,20}$\"\n",
    "Pattern_email=r\"[A-z0-9]+.+@+[A-z]+.+[a-z]$\"\n",
    "Pattern_name=r\"^[A-Z][a-z]*$\"\n",
    "Pattern_phone=r\"^[0-9]{10}\"\n",
    "Pattern_lic=\"[A-Z]{2}[0-9]{2}[0-9]{11}$\"\n",
    "Pattern_adhr=r\"[0-9]{12}\"\n",
    "Pattern_mdl=r\"[A-z][0-9]*\"\n",
    "def validate_user_name(f):\n",
    "    def helper(x):\n",
    "        if re.match(Pattern_un,x):\n",
    "            return f(x)\n",
    "        else:\n",
    "            raise Exception(\"Invalid Username\")\n",
    "    return helper\n",
    "def validate_password(f):\n",
    "    def helper(x):\n",
    "        if re.match(Pattern_psw,x):\n",
    "            return f(x)\n",
    "        else:\n",
    "            raise Exception(\"Password must contain [Letters,numbers and special characters and must of  6 to 20 characters ]\")\n",
    "    return helper\n",
    "def validate_email_id(f):\n",
    "    def helper(x):        \n",
    "        if re.match(Pattern_email,x):\n",
    "            return f(x)\n",
    "        else:\n",
    "            raise Exception(\"Please Enter valid Email ID!\")\n",
    "    return helper\n",
    "def validate_Name(f):\n",
    "    def helper(x):\n",
    "        if re.match(Pattern_name,x):\n",
    "            return f(x)\n",
    "        else:\n",
    "            raise Exception(\"First letter must be capital followed by smaller case letters\")\n",
    "    return helper\n",
    "def validate_Phone_no(f):\n",
    "    def helper(x):\n",
    "        if re.match(Pattern_phone,x):\n",
    "            return f(x)\n",
    "        else:\n",
    "            raise Exception(\"Phone no. must contain 10 digits\")\n",
    "    return helper\n",
    "def validate_Lic_no(f):\n",
    "    def helper(x):\n",
    "        if re.match(Pattern_lic,x):\n",
    "            return f(x)\n",
    "        else:\n",
    "            raise Exception(\"License No. should be in format[2-state letter] [2-RTO area no.] [11 digits of LICense no.]\")\n",
    "    return helper\n",
    "def validate_Adhaar_no(f):\n",
    "    def helper(x):\n",
    "        if re.match(Pattern_adhr,x):\n",
    "            return f(x)\n",
    "        else:\n",
    "            raise Exception(\"Adhaar no. must be correct and contain 12 digits\")\n",
    "    return helper\n",
    "def validate_model_no(f):\n",
    "    def helper(x):\n",
    "        if re.match(Pattern_mdl,x):\n",
    "            return f(x)\n",
    "        else:\n",
    "            raise Exception(\"Full model name\")\n",
    "    return helper\n"
   ]
  },
  {
   "cell_type": "code",
   "execution_count": 3,
   "metadata": {},
   "outputs": [],
   "source": [
    "@validate_user_name\n",
    "def check_un(g):\n",
    "    print(f\"Username is: {g}\")\n",
    "@validate_password\n",
    "def check_psw(g):\n",
    "    print(f\"Password is: {g}\")\n",
    "@validate_email_id\n",
    "def check_email(g):\n",
    "    print(f\"Email is: {g}\")\n",
    "@validate_Name\n",
    "def check_name(g):\n",
    "    print(f\"Name is: {g}\")\n",
    "@validate_Phone_no\n",
    "def check_phone(g):\n",
    "    print(f\"Phone no. is: {g}\")\n",
    "@validate_Lic_no\n",
    "def check_lic(g):\n",
    "    print(f\"license no. is: {g}\")\n",
    "@validate_Adhaar_no\n",
    "def check_Adhaar(g):\n",
    "    print(f\"Adhhar no. is: {g}\")\n",
    "@validate_model_no\n",
    "def check_model(g):\n",
    "    print(f\"Model no. is: {g}\")"
   ]
  },
  {
   "cell_type": "code",
   "execution_count": 4,
   "metadata": {},
   "outputs": [
    {
     "name": "stdout",
     "output_type": "stream",
     "text": [
      "Username is: Abhi1234\n",
      "Password is: Abhi123@\n",
      "Email is: Abhi1234@gmail.com\n",
      "Name is: Abhi\n",
      "Phone no. is: 1234567890\n",
      "license no. is: MH1212345678901\n",
      "Adhhar no. is: 1212345678901\n",
      "Model no. is: Mercede benz2134\n"
     ]
    }
   ],
   "source": []
  },
  {
   "cell_type": "code",
   "execution_count": null,
   "metadata": {},
   "outputs": [],
   "source": []
  },
  {
   "cell_type": "code",
   "execution_count": null,
   "metadata": {},
   "outputs": [],
   "source": [
    "check_un('Abhi1234')\n",
    "check_psw('Abhi123@')\n",
    "check_email('Abhi1234@gmail.com')\n",
    "check_name('Abhi')\n",
    "check_phone('1234567890')\n",
    "check_lic('MH1212345678901')\n",
    "check_Adhaar('1212345678901')\n",
    "check_model('Mercede benz2134')"
   ]
  }
 ],
 "metadata": {
  "kernelspec": {
   "display_name": "Python 3",
   "language": "python",
   "name": "python3"
  },
  "language_info": {
   "codemirror_mode": {
    "name": "ipython",
    "version": 3
   },
   "file_extension": ".py",
   "mimetype": "text/x-python",
   "name": "python",
   "nbconvert_exporter": "python",
   "pygments_lexer": "ipython3",
   "version": "3.10.2"
  }
 },
 "nbformat": 4,
 "nbformat_minor": 2
}
