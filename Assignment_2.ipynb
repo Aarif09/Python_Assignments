{
 "cells": [
  {
   "cell_type": "markdown",
   "metadata": {},
   "source": [
    "Assignment:1\n",
    "#User will enter the start date and end date. Ask user to enter the task to be done on weekdays. If it is weekend then no task should be allotted\n",
    "\n",
    "#Example: Start date: 2025-01-08, End date: 2025-01-16, Task: Study for exams"
   ]
  },
  {
   "cell_type": "code",
   "execution_count": 2,
   "metadata": {},
   "outputs": [
    {
     "name": "stdout",
     "output_type": "stream",
     "text": [
      "2025-01-08 Study and Revise the topics for exam\n",
      "2025-01-09 Study and Revise the topics for exam\n",
      "2025-01-10 Study and Revise the topics for exam\n",
      "2025-01-13 Study and Revise the topics for exam\n",
      "2025-01-14 Study and Revise the topics for exam\n",
      "2025-01-15 Study and Revise the topics for exam\n",
      "2025-01-16 Study and Revise the topics for exam\n"
     ]
    }
   ],
   "source": [
    "#User will enter the start date and end date. Ask user to enter the task to be done on weekdays. If it is weekend then no task should be allotted\n",
    "\n",
    "#Example: Start date: 2025-01-08, End date: 2025-01-16, Task: Study for exams\n",
    "\n",
    "from datetime import datetime\n",
    "from datetime import date\n",
    "from datetime import timedelta\n",
    "\n",
    "\n",
    "\n",
    "start_date_str = input(\"Enter start date (YYYY-MM-DD): \")\n",
    "end_date_str = input(\"Enter end date (YYYY-MM-DD): \")\n",
    "task = input(\"Enter task to be done on weekdays: \")\n",
    "\n",
    "start_date = datetime.strptime(start_date_str, '%Y-%m-%d')\n",
    "\n",
    "end_date = datetime.strptime(end_date_str, '%Y-%m-%d')\n",
    "\n",
    "# Calculate the number of days between the two dates\n",
    "\n",
    "num_days = (end_date - start_date).days\n",
    "\n",
    "# Iterate over each day in the given range\n",
    "\n",
    "for i in range(num_days + 1):\n",
    "\n",
    "    current_date = start_date + timedelta(days=i)\n",
    "\n",
    "    # Check if it is a weekday (Monday to Friday)\n",
    "    \n",
    "    if current_date.weekday() < 5:\n",
    "        \n",
    "        # Print the current date and the task\n",
    "        \n",
    "        print(current_date.strftime('%Y-%m-%d'), task)\n",
    "\n",
    "\n"
   ]
  }
 ],
 "metadata": {
  "kernelspec": {
   "display_name": "Python 3",
   "language": "python",
   "name": "python3"
  },
  "language_info": {
   "codemirror_mode": {
    "name": "ipython",
    "version": 3
   },
   "file_extension": ".py",
   "mimetype": "text/x-python",
   "name": "python",
   "nbconvert_exporter": "python",
   "pygments_lexer": "ipython3",
   "version": "3.10.2"
  }
 },
 "nbformat": 4,
 "nbformat_minor": 2
}
