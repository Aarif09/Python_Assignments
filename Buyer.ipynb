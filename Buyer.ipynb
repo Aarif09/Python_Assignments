{
 "cells": [
  {
   "cell_type": "markdown",
   "metadata": {},
   "source": [
    "Buyer Details"
   ]
  },
  {
   "cell_type": "markdown",
   "metadata": {},
   "source": [
    "Username\n"
   ]
  },
  {
   "cell_type": "code",
   "execution_count": 1,
   "metadata": {},
   "outputs": [
    {
     "name": "stdout",
     "output_type": "stream",
     "text": [
      "Invalid name! Please Enter your name again\n"
     ]
    }
   ],
   "source": [
    "name=input(\"Enter your name: \")\n",
    "if not name.isalpha():\n",
    "    print(\"Invalid name! Please Enter your name again\")"
   ]
  },
  {
   "cell_type": "markdown",
   "metadata": {},
   "source": [
    "Phone"
   ]
  },
  {
   "cell_type": "code",
   "execution_count": 2,
   "metadata": {},
   "outputs": [],
   "source": [
    "phone=input(\"Enter your phone no.\")\n",
    "if not phone.isnumeric() and len(phone)==10:\n",
    "    print(\"Invalid phone number! Please enter Valid Phone number\")"
   ]
  },
  {
   "cell_type": "markdown",
   "metadata": {},
   "source": [
    "Email   Address"
   ]
  },
  {
   "cell_type": "code",
   "execution_count": 3,
   "metadata": {},
   "outputs": [
    {
     "name": "stdout",
     "output_type": "stream",
     "text": [
      "Not Valid Email! Please enter a valid email\n"
     ]
    }
   ],
   "source": [
    "Email_id=input(\"Enter the Email id: \")\n",
    "if not (\"@\" in Email_id and \".\" in Email_id and len(Email_id) <= 30):\n",
    "    print(\"Not Valid Email! Please enter a valid email\")"
   ]
  },
  {
   "cell_type": "markdown",
   "metadata": {},
   "source": [
    "License Number"
   ]
  },
  {
   "cell_type": "code",
   "execution_count": 4,
   "metadata": {},
   "outputs": [],
   "source": [
    "lic_no=input(\"Enter the License no.\")\n",
    "if not lic_no.isnumeric() and len(lic_no)==12:\n",
    "    print(\"Invalid license no.! Please enter Valid license no.\")"
   ]
  }
 ],
 "metadata": {
  "kernelspec": {
   "display_name": "Python 3",
   "language": "python",
   "name": "python3"
  },
  "language_info": {
   "codemirror_mode": {
    "name": "ipython",
    "version": 3
   },
   "file_extension": ".py",
   "mimetype": "text/x-python",
   "name": "python",
   "nbconvert_exporter": "python",
   "pygments_lexer": "ipython3",
   "version": "3.10.2"
  }
 },
 "nbformat": 4,
 "nbformat_minor": 2
}
