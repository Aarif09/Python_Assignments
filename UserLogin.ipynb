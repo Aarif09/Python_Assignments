{
 "cells": [
  {
   "cell_type": "markdown",
   "metadata": {},
   "source": [
    "User Login"
   ]
  },
  {
   "cell_type": "code",
   "execution_count": null,
   "metadata": {},
   "outputs": [],
   "source": [
    "user_name=input(\"Enter the Username: \")\n",
    "Password=input(\"Enter the password: \")\n",
    "Email_id=input(\"Enter the Email id: \")\n",
    "if not user_name.isalnum():\n",
    "    print(\"Not Valid Username\")\n",
    "elif not Password.isalnum() and len(Password) < 6 and len(Password) > 20:\n",
    "    print(\"Not Valid Password\")\n",
    "elif not (\"@\" in Email_id and \".\" in Email_id and len(Email_id) <= 30):\n",
    "    print(\"Not Valid Email\")\n",
    "else:\n",
    "    print(\"Valid\")"
   ]
  },
  {
   "cell_type": "markdown",
   "metadata": {},
   "source": [
    "User Name validation"
   ]
  },
  {
   "cell_type": "code",
   "execution_count": null,
   "metadata": {},
   "outputs": [],
   "source": [
    "user_name=input(\"Enter the Username: \")\n",
    "if not user_name.isalnum():\n",
    "    print(\"Not Valid Username\")\n",
    "else:\n",
    "    print(\"Valid\")"
   ]
  },
  {
   "cell_type": "markdown",
   "metadata": {},
   "source": [
    "Password validation"
   ]
  },
  {
   "cell_type": "code",
   "execution_count": null,
   "metadata": {},
   "outputs": [],
   "source": [
    "Password=input(\"Enter the password: \")\n",
    "if not Password.isalnum() and len(Password) < 6 and len(Password) > 20:\n",
    "    print(\"Not Valid Password\")\n",
    "else:\n",
    "    print(\"Valid\")"
   ]
  },
  {
   "cell_type": "markdown",
   "metadata": {},
   "source": [
    "Email Validation"
   ]
  },
  {
   "cell_type": "code",
   "execution_count": null,
   "metadata": {},
   "outputs": [],
   "source": [
    "Email_id=input(\"Enter the Email id: \")\n",
    "if not (\"@\" in Email_id and \".\" in Email_id and len(Email_id) <= 30):\n",
    "    print(\"Not Valid Email\")\n",
    "else:\n",
    "    print(\"Valid\")"
   ]
  }
 ],
 "metadata": {
  "kernelspec": {
   "display_name": "Python 3",
   "language": "python",
   "name": "python3"
  },
  "language_info": {
   "name": "python",
   "version": "3.10.2"
  }
 },
 "nbformat": 4,
 "nbformat_minor": 2
}
